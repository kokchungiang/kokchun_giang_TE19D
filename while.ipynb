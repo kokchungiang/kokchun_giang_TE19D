{
 "metadata": {
  "language_info": {
   "codemirror_mode": {
    "name": "ipython",
    "version": 3
   },
   "file_extension": ".py",
   "mimetype": "text/x-python",
   "name": "python",
   "nbconvert_exporter": "python",
   "pygments_lexer": "ipython3",
   "version": "3.8.3-final"
  },
  "orig_nbformat": 2,
  "kernelspec": {
   "name": "Python 3.8.3 64-bit ('base': conda)",
   "display_name": "Python 3.8.3 64-bit ('base': conda)",
   "metadata": {
    "interpreter": {
     "hash": "32d3f5a1c2b5567bec393df6ff018e004e86126481f45fcedbe3d204fc8e1d8c"
    }
   }
  }
 },
 "nbformat": 4,
 "nbformat_minor": 2,
 "cells": [
  {
   "cell_type": "code",
   "execution_count": 8,
   "metadata": {
    "tags": []
   },
   "outputs": [
    {
     "output_type": "stream",
     "name": "stdout",
     "text": "Jämna tal från 0 till 20:\n0 2 4 6 8 10 12 14 16 18 20 "
    }
   ],
   "source": [
    "n = 0\n",
    "\n",
    "'''\n",
    "while n <= 10:\n",
    "    print(n, end = \" \")\n",
    "    n += 1\n",
    "'''\n",
    "print(\"Jämna tal från 0 till 20:\")\n",
    "while n <= 20:\n",
    "    print(n, end = \" \")\n",
    "    n += 2\n"
   ]
  },
  {
   "source": [
    "While-sats: inte vet antal gånger man vill upprepa en viss kod\n",
    "\n",
    "For-sats: vet bestämt antal gånger man vill upprepa viss kod "
   ],
   "cell_type": "markdown",
   "metadata": {}
  },
  {
   "source": [
    "# Miljöutsläpp\n",
    "\n",
    "Ett miljöutsläpp halverar fågelpopulationen i en ö varje år\n",
    "\n",
    "Fågelpopulationen började på 8000st\n",
    "\n",
    "Hur många år tar det tills populationen understiger en tiondel?"
   ],
   "cell_type": "markdown",
   "metadata": {}
  },
  {
   "cell_type": "code",
   "execution_count": 12,
   "metadata": {
    "tags": []
   },
   "outputs": [
    {
     "output_type": "stream",
     "name": "stdout",
     "text": "År 0: antal fåglar: 8000st\nÅr 1: antal fåglar: 4000.0st\nÅr 2: antal fåglar: 2000.0st\nÅr 3: antal fåglar: 1000.0st\nÅr 4: antal fåglar: 500.0st\n"
    }
   ],
   "source": [
    "fåglar = 8000\n",
    "år = 0\n",
    "\n",
    "print(f\"År {år}: antal fåglar: {fåglar}st\")\n",
    "\n",
    "while fåglar > 800:\n",
    "    år += 1\n",
    "    fåglar /= 2\n",
    "    print(f\"År {år}: antal fåglar: {fåglar}st\")\n",
    "\n"
   ]
  },
  {
   "cell_type": "code",
   "execution_count": 19,
   "metadata": {
    "tags": []
   },
   "outputs": [
    {
     "output_type": "stream",
     "name": "stdout",
     "text": "5050\n"
    }
   ],
   "source": [
    "n = 0\n",
    "y = 0\n",
    "\n",
    "while n < 100:\n",
    "    n += 1 # räknare, ökar med ett varje iteration\n",
    "    y += n # summa \n",
    "\n",
    "print(y)"
   ]
  }
 ]
}