{
 "metadata": {
  "language_info": {
   "codemirror_mode": {
    "name": "ipython",
    "version": 3
   },
   "file_extension": ".py",
   "mimetype": "text/x-python",
   "name": "python",
   "nbconvert_exporter": "python",
   "pygments_lexer": "ipython3",
   "version": "3.8.3-final"
  },
  "orig_nbformat": 2,
  "kernelspec": {
   "name": "Python 3.8.3 64-bit ('base': conda)",
   "display_name": "Python 3.8.3 64-bit ('base': conda)",
   "metadata": {
    "interpreter": {
     "hash": "32d3f5a1c2b5567bec393df6ff018e004e86126481f45fcedbe3d204fc8e1d8c"
    }
   }
  }
 },
 "nbformat": 4,
 "nbformat_minor": 2,
 "cells": [
  {
   "source": [
    "# While-sats genomgång\n",
    "\n",
    "## Ränta på ränta \n",
    "\n",
    "varje år sätter vi in 1000kr\n",
    "\n",
    "årlig ränta på 2%\n",
    "\n",
    "Efter hur många insättningar kommer vi att nå 10000?"
   ],
   "cell_type": "markdown",
   "metadata": {}
  },
  {
   "cell_type": "code",
   "execution_count": 3,
   "metadata": {},
   "outputs": [
    {
     "output_type": "stream",
     "name": "stdout",
     "text": [
      "Antal år 35\n"
     ]
    }
   ],
   "source": [
    "insättning = 1000\n",
    "förändringsfaktor = 1.02\n",
    "år = 0\n",
    "\n",
    "while insättning < 50000:\n",
    "    insättning = insättning*förändringsfaktor + 1000\n",
    "    år += 1 # år ökar med ett \n",
    "\n",
    "print(f\"Antal år {år}\")"
   ]
  },
  {
   "cell_type": "code",
   "execution_count": 5,
   "metadata": {},
   "outputs": [
    {
     "output_type": "stream",
     "name": "stdout",
     "text": [
      "Det tar 5 timmar \n"
     ]
    }
   ],
   "source": [
    "'''\n",
    "    1L mjölk innehåller 1 500 000 bakterier i rumstemp.\n",
    "    Bakterierna att öka med 50% per timme\n",
    "    Mjölken blir sur när bakterierna överstiger 10 000 000\n",
    "    Hur många timmar tar det tills mjölken surnar?\n",
    "'''\n",
    "bakterier = 1.5e6 # 1.5*10^6 (grundpotensform)\n",
    "faktor = 1.5\n",
    "timmar = 0\n",
    "\n",
    "while bakterier < 1e7:\n",
    "    bakterier = bakterier*faktor\n",
    "    timmar += 1\n",
    "\n",
    "print(f\"Det tar {timmar} timmar tills mjölken surnar \")\n",
    "\n",
    "\n"
   ]
  },
  {
   "cell_type": "code",
   "execution_count": 19,
   "metadata": {
    "tags": []
   },
   "outputs": [
    {
     "output_type": "stream",
     "name": "stdout",
     "text": [
      "1+3+5+7+9 = 625\n"
     ]
    }
   ],
   "source": [
    "n = 1  # räknarvariabel\n",
    "'''\n",
    "while n < 10:\n",
    "    print(n, end = \" \")\n",
    "    n = n + 1\n",
    "    #n += 1\n",
    "'''\n",
    "summa = 0\n",
    "while n < 50: \n",
    "    summa = summa + n\n",
    "    n += 2\n",
    "\n",
    "print(f\"1+3+5+...+47+49 = {summa}\") \n",
    "    "
   ]
  },
  {
   "cell_type": "code",
   "execution_count": null,
   "metadata": {},
   "outputs": [],
   "source": [
    "'''\n",
    "1L mjölk 1500000 bakterier\n",
    "I rumstemp ökar antalet bakterier med 50% varje timme\n",
    "Mjölk blir sur när bakterierna överstiger 10000000 st\n",
    "Hur många timmar tills mjölken blir sur?\n",
    "'''\n",
    "\n"
   ]
  },
  {
   "cell_type": "code",
   "execution_count": 36,
   "metadata": {},
   "outputs": [
    {
     "output_type": "execute_result",
     "data": {
      "text/plain": [
       "8"
      ]
     },
     "metadata": {},
     "execution_count": 36
    }
   ],
   "source": [
    "import random as rnd\n",
    "\n",
    "rnd.randint(1,10)"
   ]
  }
 ]
}