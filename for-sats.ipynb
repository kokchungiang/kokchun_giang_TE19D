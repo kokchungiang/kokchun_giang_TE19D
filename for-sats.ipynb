{
 "metadata": {
  "language_info": {
   "codemirror_mode": {
    "name": "ipython",
    "version": 3
   },
   "file_extension": ".py",
   "mimetype": "text/x-python",
   "name": "python",
   "nbconvert_exporter": "python",
   "pygments_lexer": "ipython3",
   "version": "3.8.3-final"
  },
  "orig_nbformat": 2,
  "kernelspec": {
   "name": "Python 3.8.3 64-bit ('base': conda)",
   "display_name": "Python 3.8.3 64-bit ('base': conda)",
   "metadata": {
    "interpreter": {
     "hash": "32d3f5a1c2b5567bec393df6ff018e004e86126481f45fcedbe3d204fc8e1d8c"
    }
   }
  }
 },
 "nbformat": 4,
 "nbformat_minor": 2,
 "cells": [
  {
   "cell_type": "code",
   "execution_count": 7,
   "metadata": {
    "tags": []
   },
   "outputs": [
    {
     "output_type": "stream",
     "name": "stdout",
     "text": "1. hej\n2. hej\n3. hej\n4. hej\n"
    }
   ],
   "source": [
    "for i in range(1,5):\n",
    "    print(f\"{i}. hej\")\n"
   ]
  },
  {
   "cell_type": "code",
   "execution_count": 9,
   "metadata": {
    "tags": []
   },
   "outputs": [
    {
     "output_type": "stream",
     "name": "stdout",
     "text": "1 2 3 4 5 6 7 8 9 10 11 12 13 14 15 16 17 18 19 20 "
    }
   ],
   "source": [
    "# skriv ut talen från 1 till 20\n",
    "for i in range(1,21):\n",
    "    print(i, end = \" \")"
   ]
  },
  {
   "cell_type": "code",
   "execution_count": 11,
   "metadata": {
    "tags": []
   },
   "outputs": [
    {
     "output_type": "stream",
     "name": "stdout",
     "text": "Summan 1+2+3+...+18+19+20 = 210\n"
    }
   ],
   "source": [
    "# summa = 1+2+3+...+18+19+20\n",
    "s = 0\n",
    "for n in range(1,21):\n",
    "    s = s + n\n",
    "print(f\"Summan 1+2+3+...+18+19+20 = {s}\")\n"
   ]
  },
  {
   "cell_type": "code",
   "execution_count": 14,
   "metadata": {
    "tags": []
   },
   "outputs": [
    {
     "output_type": "stream",
     "name": "stdout",
     "text": "1 3 5 7 9 11 "
    }
   ],
   "source": [
    "# tips skriv ut talen 1,3,5,...,7,9,11\n",
    "for i in range(1,12,2):\n",
    "    print(i, end = \" \")"
   ]
  },
  {
   "cell_type": "code",
   "execution_count": 17,
   "metadata": {
    "tags": []
   },
   "outputs": [
    {
     "output_type": "stream",
     "name": "stdout",
     "text": "5 4 3 2 1 "
    }
   ],
   "source": [
    "# räkna nedåt\n",
    "for i in range(5):\n",
    "    print(5-i, end =\" \")"
   ]
  },
  {
   "cell_type": "code",
   "execution_count": 21,
   "metadata": {
    "tags": []
   },
   "outputs": [
    {
     "output_type": "stream",
     "name": "stdout",
     "text": "Kokchun Henrik Lisa Tatiana Niklas Herman Erik "
    }
   ],
   "source": [
    "# lista\n",
    "lararLista = [\"Kokchun\", \"Henrik\", \"Lisa\", \"Tatiana\", \"Niklas\",\"Herman\", \"Erik\"]\n",
    "\n",
    "for larare in lararLista:\n",
    "    print(larare, end=\" \")\n"
   ]
  }
 ]
}