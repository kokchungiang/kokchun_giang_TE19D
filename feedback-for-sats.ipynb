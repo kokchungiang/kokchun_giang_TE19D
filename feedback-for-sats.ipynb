{
 "metadata": {
  "language_info": {
   "codemirror_mode": {
    "name": "ipython",
    "version": 3
   },
   "file_extension": ".py",
   "mimetype": "text/x-python",
   "name": "python",
   "nbconvert_exporter": "python",
   "pygments_lexer": "ipython3",
   "version": "3.8.3-final"
  },
  "orig_nbformat": 2,
  "kernelspec": {
   "name": "Python 3.8.3 64-bit ('base': conda)",
   "display_name": "Python 3.8.3 64-bit ('base': conda)",
   "metadata": {
    "interpreter": {
     "hash": "32d3f5a1c2b5567bec393df6ff018e004e86126481f45fcedbe3d204fc8e1d8c"
    }
   }
  }
 },
 "nbformat": 4,
 "nbformat_minor": 2,
 "cells": [
  {
   "source": [
    "# Feedback for-satser\n",
    "\n",
    "for-satser: upprepar kod ett bestämt antal gånger\n",
    "\n",
    "* bör användas när man vet hur många ggr man vill upprepa en viss kod\n",
    "* kommenterar kod för att visa förståelse"
   ],
   "cell_type": "markdown",
   "metadata": {}
  },
  {
   "cell_type": "code",
   "execution_count": 6,
   "metadata": {
    "tags": []
   },
   "outputs": [
    {
     "output_type": "stream",
     "name": "stdout",
     "text": "0 1 2 3 4 5 6 7 8 9 \n0 2 4 6 8 10 12 14 16 18 \n0 3 6 9 12 15 18 21 24 27 \n0 4 8 12 16 20 24 28 32 36 "
    }
   ],
   "source": [
    "for i in range(10):\n",
    "    print(i, end=\" \")\n",
    "print()\n",
    "for i in range(10):\n",
    "    print(i*2, end=\" \")\n",
    "print()\n",
    "for i in range(10):\n",
    "    print(i*3, end=\" \")\n",
    "print()\n",
    "for i in range(10):\n",
    "    print(i*4, end=\" \")\n",
    "\n",
    "# gör inte detta\n",
    "# använd istället for-sats i en for-sats så kallade nästlad for-sats"
   ]
  }
 ]
}